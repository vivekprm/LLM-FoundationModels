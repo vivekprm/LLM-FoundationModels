{
 "cells": [
  {
   "cell_type": "markdown",
   "metadata": {},
   "source": [
    "<div style=\"text-align: center; line-height: 0; padding-top: 9px;\">\n",
    "  <img src=\"https://databricks.com/wp-content/uploads/2018/03/db-academy-rgb-1200px.png\" alt=\"Databricks Learning\" style=\"width: 600px\">\n",
    "</div>"
   ]
  },
  {
   "cell_type": "markdown",
   "metadata": {},
   "source": [
    "# Diving into the Transformer - Building your own Foundation LLM\n",
    "This lesson introduces the underlying sturcture of transformers from token management to the layers in a decoder, to comparing smaller and larger models. We will build up all of the steps needed to create our foundation model before training. You will see how the layers are constructed, and how the next word is chosen. \n",
    "\n",
    "### ![Dolly](https://files.training.databricks.com/images/llm/dolly_small.png) Learning Objectives\n",
    "1. Identify the key structures and functions in decoder transformers\n",
    "1. Analyze the effect of hyperparameter changes (such as embedding dimension) on the size of the LLM\n",
    "1. Compare the different performance of models with different model architectures"
   ]
  },
  {
   "cell_type": "markdown",
   "metadata": {},
   "source": [
    "## Classroom Setup"
   ]
  },
  {
   "cell_type": "code",
   "execution_count": null,
   "metadata": {},
   "outputs": [],
   "source": [
    "# MAGIC %run ../Includes/Classroom-Setup"
   ]
  },
  {
   "cell_type": "code",
   "execution_count": 1,
   "metadata": {},
   "outputs": [
    {
     "name": "stdout",
     "output_type": "stream",
     "text": [
      "Collecting seaborn\n",
      "  Obtaining dependency information for seaborn from https://files.pythonhosted.org/packages/7b/e5/83fcd7e9db036c179e0352bfcd20f81d728197a16f883e7b90307a88e65e/seaborn-0.13.0-py3-none-any.whl.metadata\n",
      "  Downloading seaborn-0.13.0-py3-none-any.whl.metadata (5.3 kB)\n",
      "Requirement already satisfied: numpy!=1.24.0,>=1.20 in /Users/vmishra/.pyenv/versions/3.10.4/lib/python3.10/site-packages (from seaborn) (1.26.0)\n",
      "Collecting pandas>=1.2 (from seaborn)\n",
      "  Obtaining dependency information for pandas>=1.2 from https://files.pythonhosted.org/packages/f3/e6/7021570b1152ae8efc2dc99f4aef2c0b91c1f098a18cb8671d5b06ebdf53/pandas-2.1.1-cp310-cp310-macosx_10_9_x86_64.whl.metadata\n",
      "  Downloading pandas-2.1.1-cp310-cp310-macosx_10_9_x86_64.whl.metadata (18 kB)\n",
      "Collecting matplotlib!=3.6.1,>=3.3 (from seaborn)\n",
      "  Obtaining dependency information for matplotlib!=3.6.1,>=3.3 from https://files.pythonhosted.org/packages/30/5b/a6214caaa5adf07b52aecba98fdace32cc51e63a1fcc1f98d60ec128a6c0/matplotlib-3.8.0-cp310-cp310-macosx_10_12_x86_64.whl.metadata\n",
      "  Downloading matplotlib-3.8.0-cp310-cp310-macosx_10_12_x86_64.whl.metadata (5.8 kB)\n",
      "Collecting contourpy>=1.0.1 (from matplotlib!=3.6.1,>=3.3->seaborn)\n",
      "  Obtaining dependency information for contourpy>=1.0.1 from https://files.pythonhosted.org/packages/fb/7f/c44a51a83a093bf5c84e07dd1e3cfe9f68c47b6499bd05a9de0c6dbdc2bc/contourpy-1.1.1-cp310-cp310-macosx_10_9_x86_64.whl.metadata\n",
      "  Downloading contourpy-1.1.1-cp310-cp310-macosx_10_9_x86_64.whl.metadata (5.9 kB)\n",
      "Collecting cycler>=0.10 (from matplotlib!=3.6.1,>=3.3->seaborn)\n",
      "  Obtaining dependency information for cycler>=0.10 from https://files.pythonhosted.org/packages/e7/05/c19819d5e3d95294a6f5947fb9b9629efb316b96de511b418c53d245aae6/cycler-0.12.1-py3-none-any.whl.metadata\n",
      "  Using cached cycler-0.12.1-py3-none-any.whl.metadata (3.8 kB)\n",
      "Collecting fonttools>=4.22.0 (from matplotlib!=3.6.1,>=3.3->seaborn)\n",
      "  Obtaining dependency information for fonttools>=4.22.0 from https://files.pythonhosted.org/packages/12/20/dd3ee8dd2bc4e6bfbcd3ad4d1d79e9dba0dcc287989380ae8b520b19b4a4/fonttools-4.43.1-cp310-cp310-macosx_10_9_x86_64.whl.metadata\n",
      "  Downloading fonttools-4.43.1-cp310-cp310-macosx_10_9_x86_64.whl.metadata (152 kB)\n",
      "\u001b[2K     \u001b[38;2;114;156;31m━━━━━━━━━━━━━━━━━━━━━━━━━━━━━━━━━━━━━━━\u001b[0m \u001b[32m152.4/152.4 kB\u001b[0m \u001b[31m1.0 MB/s\u001b[0m eta \u001b[36m0:00:00\u001b[0m[31m1.3 MB/s\u001b[0m eta \u001b[36m0:00:01\u001b[0m\n",
      "\u001b[?25hCollecting kiwisolver>=1.0.1 (from matplotlib!=3.6.1,>=3.3->seaborn)\n",
      "  Obtaining dependency information for kiwisolver>=1.0.1 from https://files.pythonhosted.org/packages/0e/c1/d084f8edb26533a191415d5173157080837341f9a06af9dd1a75f727abb4/kiwisolver-1.4.5-cp310-cp310-macosx_10_9_x86_64.whl.metadata\n",
      "  Downloading kiwisolver-1.4.5-cp310-cp310-macosx_10_9_x86_64.whl.metadata (6.4 kB)\n",
      "Requirement already satisfied: packaging>=20.0 in /Users/vmishra/.pyenv/versions/3.10.4/lib/python3.10/site-packages (from matplotlib!=3.6.1,>=3.3->seaborn) (23.2)\n",
      "Requirement already satisfied: pillow>=6.2.0 in /Users/vmishra/.pyenv/versions/3.10.4/lib/python3.10/site-packages (from matplotlib!=3.6.1,>=3.3->seaborn) (10.0.1)\n",
      "Requirement already satisfied: pyparsing>=2.3.1 in /Users/vmishra/.pyenv/versions/3.10.4/lib/python3.10/site-packages (from matplotlib!=3.6.1,>=3.3->seaborn) (2.4.7)\n",
      "Requirement already satisfied: python-dateutil>=2.7 in /Users/vmishra/.pyenv/versions/3.10.4/lib/python3.10/site-packages (from matplotlib!=3.6.1,>=3.3->seaborn) (2.8.2)\n",
      "Collecting pytz>=2020.1 (from pandas>=1.2->seaborn)\n",
      "  Obtaining dependency information for pytz>=2020.1 from https://files.pythonhosted.org/packages/32/4d/aaf7eff5deb402fd9a24a1449a8119f00d74ae9c2efa79f8ef9994261fc2/pytz-2023.3.post1-py2.py3-none-any.whl.metadata\n",
      "  Using cached pytz-2023.3.post1-py2.py3-none-any.whl.metadata (22 kB)\n",
      "Collecting tzdata>=2022.1 (from pandas>=1.2->seaborn)\n",
      "  Using cached tzdata-2023.3-py2.py3-none-any.whl (341 kB)\n",
      "Requirement already satisfied: six>=1.5 in /Users/vmishra/.pyenv/versions/3.10.4/lib/python3.10/site-packages (from python-dateutil>=2.7->matplotlib!=3.6.1,>=3.3->seaborn) (1.16.0)\n",
      "Using cached seaborn-0.13.0-py3-none-any.whl (294 kB)\n",
      "Using cached matplotlib-3.8.0-cp310-cp310-macosx_10_12_x86_64.whl (7.6 MB)\n",
      "Using cached pandas-2.1.1-cp310-cp310-macosx_10_9_x86_64.whl (11.7 MB)\n",
      "Using cached contourpy-1.1.1-cp310-cp310-macosx_10_9_x86_64.whl (247 kB)\n",
      "Using cached cycler-0.12.1-py3-none-any.whl (8.3 kB)\n",
      "Using cached fonttools-4.43.1-cp310-cp310-macosx_10_9_x86_64.whl (2.2 MB)\n",
      "Using cached kiwisolver-1.4.5-cp310-cp310-macosx_10_9_x86_64.whl (68 kB)\n",
      "Using cached pytz-2023.3.post1-py2.py3-none-any.whl (502 kB)\n",
      "Installing collected packages: pytz, tzdata, kiwisolver, fonttools, cycler, contourpy, pandas, matplotlib, seaborn\n",
      "Successfully installed contourpy-1.1.1 cycler-0.12.1 fonttools-4.43.1 kiwisolver-1.4.5 matplotlib-3.8.0 pandas-2.1.1 pytz-2023.3.post1 seaborn-0.13.0 tzdata-2023.3\n",
      "Note: you may need to restart the kernel to use updated packages.\n"
     ]
    }
   ],
   "source": [
    "%pip install seaborn"
   ]
  },
  {
   "cell_type": "code",
   "execution_count": 2,
   "metadata": {
    "scrolled": true
   },
   "outputs": [],
   "source": [
    "# Import the necessary libraries\n",
    "import torch\n",
    "import torch.nn as nn\n",
    "import torch.nn.functional as F\n",
    "import math\n",
    "import time\n",
    "import numpy as np\n",
    "import matplotlib.pyplot as plt\n",
    "import seaborn"
   ]
  },
  {
   "cell_type": "markdown",
   "metadata": {},
   "source": [
    " # Section 1: Encoding Natural Language - Word Embedding and Positional Encoding\n",
    "In this section we'll look at how to take a natural language input and convert it to the form we'll need for our transformer."
   ]
  },
  {
   "cell_type": "code",
   "execution_count": 3,
   "metadata": {},
   "outputs": [
    {
     "name": "stdout",
     "output_type": "stream",
     "text": [
      "{'jumps': 0, 'dog': 1, 'the': 2, 'fox': 3, 'quick': 4, 'over': 5, 'lazy': 6, 'The': 7, 'brown': 8}\n",
      "tensor([7, 4, 8, 3, 0, 5, 2, 6, 1])\n",
      "tensor([[ 0.3012,  0.9025,  0.3603, -1.3617,  1.1579, -0.2015, -0.8809, -0.8745,\n",
      "          0.7012,  0.7613, -0.9797,  1.8672,  0.1295, -0.7920, -0.6391,  0.2735],\n",
      "        [-1.3456, -2.3246, -1.4407, -2.5385,  0.1168, -1.2394,  0.4326, -0.1290,\n",
      "         -1.3235,  0.5573, -1.5913, -2.2053, -0.1026,  0.7645,  0.2666,  0.6551],\n",
      "        [-0.0089,  2.6233, -1.5543,  0.7501, -1.2856,  0.7897,  0.5530, -0.7143,\n",
      "         -1.0433, -0.6406, -1.0801, -1.7989, -0.4885,  0.9881,  0.2507, -1.7127],\n",
      "        [-0.1413,  0.3108,  0.1853, -1.3336,  2.0626,  0.9009,  1.0049, -1.6276,\n",
      "          0.5796,  0.1390,  1.1905,  0.9375, -1.4792, -2.1333, -0.4522, -0.5225],\n",
      "        [ 1.5191,  1.6460,  0.7922,  0.4919, -0.4391, -1.3785, -0.9646, -1.3699,\n",
      "          0.6760, -0.7233,  1.1631,  0.0980,  0.6235,  0.4496,  1.5547,  0.3184],\n",
      "        [ 0.6348,  0.0879, -0.6642, -0.3416, -0.9956, -0.2549, -0.6320, -0.1762,\n",
      "          2.1619,  0.5519, -0.5426,  0.2424, -0.9867,  0.1371,  0.2654, -0.6321],\n",
      "        [ 0.7238,  0.9373,  0.1391,  0.1358,  1.6814,  1.2408,  0.1908, -0.2024,\n",
      "          0.8969,  0.5201, -0.1007, -0.5557,  0.0794, -0.4406, -1.1109, -1.4330],\n",
      "        [-0.8788,  0.6767,  0.6961,  0.3451, -0.1029,  0.1248, -0.1704,  1.2614,\n",
      "          0.5583,  0.5382, -0.0045,  1.3907, -1.5828, -1.3831,  1.5127, -0.5995],\n",
      "        [ 2.3974, -1.0085,  1.1756,  3.0488,  1.1069,  1.2126,  1.9858, -0.5157,\n",
      "          0.4112,  0.5634,  0.2785,  2.1696, -0.6512,  0.3563, -1.3982, -0.0173]],\n",
      "       grad_fn=<EmbeddingBackward0>)\n"
     ]
    }
   ],
   "source": [
    "# Define a sentence and a simple word2id mapping\n",
    "sentence = \"The quick brown fox jumps over the lazy dog\"\n",
    "word2id = {word: i for i, word in enumerate(set(sentence.split()))}\n",
    "print(word2id)\n",
    "# Convert text to indices\n",
    "input_ids = torch.tensor([word2id[word] for word in sentence.split()])\n",
    "print(input_ids)\n",
    "# Define a simple word embedding function\n",
    "def get_word_embeddings(input_ids, embedding_size):\n",
    "    embedding_layer = nn.Embedding(input_ids.max() + 1, embedding_size)\n",
    "    return embedding_layer(input_ids)\n",
    "\n",
    "\n",
    "# Get word embeddings\n",
    "embedding_size = 16  # Size of the word embeddings\n",
    "word_embeddings = get_word_embeddings(input_ids, embedding_size)\n",
    "print(word_embeddings)"
   ]
  },
  {
   "cell_type": "code",
   "execution_count": 4,
   "metadata": {},
   "outputs": [],
   "source": [
    "# Define a function to generate positional encodings\n",
    "def get_positional_encoding(max_seq_len, d_model):\n",
    "    position = np.arange(max_seq_len)[:, np.newaxis]\n",
    "    div_term = np.exp(np.arange(0, d_model, 2) * -(np.log(10000.0) / d_model))\n",
    "    positional_encoding = np.zeros((max_seq_len, d_model))\n",
    "    positional_encoding[:, 0::2] = np.sin(position * div_term)\n",
    "    positional_encoding[:, 1::2] = np.cos(position * div_term)\n",
    "    return torch.tensor(positional_encoding, dtype=torch.float)\n"
   ]
  },
  {
   "cell_type": "code",
   "execution_count": 5,
   "metadata": {},
   "outputs": [
    {
     "data": {
      "image/png": "[encoded data removed]",
      "text/plain": [
       "<Figure size 500x500 with 2 Axes>"
      ]
     },
     "metadata": {},
     "output_type": "display_data"
    }
   ],
   "source": [
    "# Function to plot heatmap\n",
    "# ------------------------\n",
    "def plot_heatmap(data, title):\n",
    "    plt.figure(figsize=(5,5))\n",
    "    seaborn.heatmap(data, cmap=\"cool\",vmin=-1, vmax=1)\n",
    "    plt.ylabel(\"Word/token\")\n",
    "    plt.xlabel(\"Positional Encoding Vector\")\n",
    "    plt.title(title)\n",
    "    plt.show()\n",
    "\n",
    "# Generate and plot positional encoding\n",
    "# -------------------------------------\n",
    "# Get positional encodings\n",
    "max_seq_len = len(sentence.split())  # Maximum sequence length\n",
    "d_model = embedding_size  # Same as the size of the word embeddings\n",
    "positional_encodings = get_positional_encoding(max_seq_len, d_model)\n",
    "plot_heatmap(positional_encodings, \"Positional Encoding\")"
   ]
  },
  {
   "cell_type": "markdown",
   "metadata": {},
   "source": [
    "## Interpreting the Positional Encoding Map\n",
    "In the Transformer model, positional encoding is used to give the model some information about the relative positions of the words in the sequence since the Transformer does not have any inherent sense of order of the input sequence.\n",
    "\n",
    "The positional encoding for a position \\(p\\) in the sequence and a dimension \\(i\\) in the embedding space is a mix of sine and cosine functions:\n",
    "\n",
    "$$PE_{(p, 2i)} = \\sin\\left(\\frac{p}{10000^{2i/d}}\\right)$$\n",
    "\n",
    "$$PE_{(p, 2i+1)} = \\cos\\left(\\frac{p}{10000^{2i/d}}\\right)$$\n",
    "\n",
    "Here, \\\\(d\\\\) is the dimension of the word embedding.\n",
    "\n",
    "These functions were chosen because they can provide a unique encoding for each word position and these encodings can be easily learned and extrapolated for sequence lengths not seen during training.\n",
    "\n",
    "In the heatmap:\n",
    "\n",
    "- The x-axis represents the dimension of the embedding space. Every pair of dimensions \\\\((2i, 2i+1)\\\\) corresponds to a specific frequency of the sine and cosine functions.\n",
    "\n",
    "- The y-axis represents the position of a word in the sequence.\n",
    "- The color at each point in the heatmap represents the value of the positional encoding at that position and dimension. Typically, a warmer color (like red) represents a higher value and a cooler color (like blue) represents a lower value.\n",
    "\n",
    "By visualizing the positional encodings in a heatmap, we can see how these values change across positions and dimensions, and get an intuition for how the Transformer model might use these values to understand the order of words in the sequence."
   ]
  },
  {
   "cell_type": "code",
   "execution_count": 6,
   "metadata": {},
   "outputs": [
    {
     "name": "stdout",
     "output_type": "stream",
     "text": [
      "tensor([[ 3.0119e-01,  1.9025e+00,  3.6030e-01, -3.6171e-01,  1.1579e+00,\n",
      "          7.9851e-01, -8.8086e-01,  1.2554e-01,  7.0116e-01,  1.7613e+00,\n",
      "         -9.7969e-01,  2.8672e+00,  1.2952e-01,  2.0798e-01, -6.3909e-01,\n",
      "          1.2735e+00],\n",
      "        [-5.0414e-01, -1.7843e+00, -1.1297e+00, -1.5881e+00,  2.1667e-01,\n",
      "         -2.4435e-01,  4.6425e-01,  8.7046e-01, -1.3135e+00,  1.5573e+00,\n",
      "         -1.5882e+00, -1.2054e+00, -1.0159e-01,  1.7645e+00,  2.6693e-01,\n",
      "          1.6551e+00],\n",
      "        [ 9.0036e-01,  2.2071e+00, -9.6314e-01,  1.5567e+00, -1.0870e+00,\n",
      "          1.7697e+00,  6.1616e-01,  2.8366e-01, -1.0233e+00,  3.5917e-01,\n",
      "         -1.0738e+00, -7.9892e-01, -4.8649e-01,  1.9881e+00,  2.5130e-01,\n",
      "         -7.1274e-01],\n",
      "        [-1.4763e-04, -6.7917e-01,  9.9794e-01, -7.5084e-01,  2.3582e+00,\n",
      "          1.8563e+00,  1.0996e+00, -6.3210e-01,  6.0957e-01,  1.1386e+00,\n",
      "          1.2000e+00,  1.9374e+00, -1.4762e+00, -1.1333e+00, -4.5123e-01,\n",
      "          4.7746e-01],\n",
      "        [ 7.6233e-01,  9.9237e-01,  1.7457e+00,  7.9302e-01, -4.9716e-02,\n",
      "         -4.5748e-01, -8.3843e-01, -3.7792e-01,  7.1598e-01,  2.7585e-01,\n",
      "          1.1758e+00,  1.0979e+00,  6.2746e-01,  1.4496e+00,  1.5559e+00,\n",
      "          1.3184e+00],\n",
      "        [-3.2410e-01,  3.7157e-01,  3.3572e-01, -3.5191e-01, -5.1617e-01,\n",
      "          6.2270e-01, -4.7450e-01,  8.1132e-01,  2.2119e+00,  1.5506e+00,\n",
      "         -5.2676e-01,  1.2423e+00, -9.8168e-01,  1.1371e+00,  2.6698e-01,\n",
      "          3.6791e-01],\n",
      "        [ 4.4438e-01,  1.8975e+00,  1.0862e+00, -1.8501e-01,  2.2460e+00,\n",
      "          2.0661e+00,  3.7939e-01,  7.7966e-01,  9.5683e-01,  1.5183e+00,\n",
      "         -8.1760e-02,  4.4411e-01,  8.5438e-02,  5.5938e-01, -1.1090e+00,\n",
      "         -4.3303e-01],\n",
      "        [-2.2183e-01,  1.4306e+00,  1.4965e+00, -2.5432e-01,  5.4135e-01,\n",
      "          8.8960e-01,  4.9205e-02,  2.2370e+00,  6.2828e-01,  1.5357e+00,\n",
      "          1.7598e-02,  2.3904e+00, -1.5758e+00, -3.8309e-01,  1.5149e+00,\n",
      "          4.0049e-01],\n",
      "        [ 3.3868e+00, -1.1540e+00,  1.7499e+00,  2.2302e+00,  1.8243e+00,\n",
      "          1.9093e+00,  2.2361e+00,  4.5251e-01,  4.9113e-01,  1.5602e+00,\n",
      "          3.0375e-01,  3.1693e+00, -6.4324e-01,  1.3563e+00, -1.3956e+00,\n",
      "          9.8270e-01]], grad_fn=<AddBackward0>)\n"
     ]
    }
   ],
   "source": [
    "# Get positional encodings\n",
    "max_seq_len = len(sentence.split())  # Maximum sequence length\n",
    "d_model = embedding_size  # Same as the size of the word embeddings\n",
    "positional_encodings = get_positional_encoding(max_seq_len, d_model)\n",
    "\n",
    "# Add word embeddings and positional encodings\n",
    "final_embeddings = word_embeddings + positional_encodings\n",
    "\n",
    "print(final_embeddings)"
   ]
  },
  {
   "cell_type": "markdown",
   "metadata": {},
   "source": [
    "# Section 2: Building Our Own Decoder From Scratch\n",
    "Let's now build a decoder transfomer. We'll build up the code from scratch and build a single layer transformer."
   ]
  },
  {
   "cell_type": "code",
   "execution_count": 7,
   "metadata": {},
   "outputs": [],
   "source": [
    "# Here we define the DecoderBlock, which is a single layer of the Transformer Decoder.\n",
    "\n",
    "class DecoderBlock(nn.Module):\n",
    "    def __init__(self, d_model, num_heads, ff_hidden_dim, dropout):\n",
    "        super(DecoderBlock, self).__init__()\n",
    "\n",
    "    # The first part of the __init__ function defines the hyperparameters for the DecoderBlock.\n",
    "    # d_model: the dimension of the input vector.\n",
    "    # num_heads: the number of heads in the multihead attention mechanism.\n",
    "    # ff_hidden_dim: the dimension of the feed forward hidden layer.\n",
    "    # dropout: the dropout rate.\n",
    "\n",
    "        self.self_attention = nn.MultiheadAttention(d_model, num_heads, dropout=dropout)\n",
    "        self.norm1 = nn.LayerNorm(d_model)\n",
    "        self.dropout1 = nn.Dropout(dropout)\n",
    "        self.linear1 = nn.Linear(d_model, ff_hidden_dim)\n",
    "        self.linear2 = nn.Linear(ff_hidden_dim, d_model)\n",
    "        self.norm2 = nn.LayerNorm(d_model)\n",
    "        self.dropout2 = nn.Dropout(dropout)\n",
    "\n",
    "    # The forward method defines how the data flows through the network.\n",
    "    # It takes two inputs: x, tgt_mask.\n",
    "    # x: the input tensor.\n",
    "    # tgt_mask: masks to prevent attention to certain positions.\n",
    "\n",
    "    def forward(self, x,tgt_mask):\n",
    "        attn_output, _ = self.self_attention(x, x, x, attn_mask=tgt_mask)\n",
    "        x = x + self.dropout1(attn_output)\n",
    "        x = self.norm1(x)\n",
    "        ff_output = self.linear2(F.relu(self.linear1(x)))\n",
    "        x = x + self.dropout2(ff_output)\n",
    "        x = self.norm2(x)\n",
    "        return x"
   ]
  },
  {
   "cell_type": "code",
   "execution_count": 8,
   "metadata": {},
   "outputs": [],
   "source": [
    "# Next, we define the PositionalEncoding class, which applies a specific positional encoding to give the model \n",
    "# information about the relative or absolute position of the tokens in the sequence.\n",
    "\n",
    "class PositionalEncoding(nn.Module):\n",
    "    def __init__(self, d_model, dropout=0.1, max_len=5000):\n",
    "        super(PositionalEncoding, self).__init__()\n",
    "        self.dropout = nn.Dropout(p=dropout)\n",
    "\n",
    "        pe = torch.zeros(max_len, d_model)\n",
    "        position = torch.arange(0, max_len, dtype=torch.float).unsqueeze(1)\n",
    "        div_term = torch.exp(torch.arange(0, d_model, 2).float() * (-math.log(10000.0) / d_model))\n",
    "        pe[:, 0::2] = torch.sin(position * div_term)\n",
    "        pe[:, 1::2] = torch.cos(position * div_term)\n",
    "        pe = pe.unsqueeze(0).transpose(0, 1)\n",
    "        self.register_buffer(\"pe\", pe)\n",
    "\n",
    "    def forward(self, x):\n",
    "        x = x + self.pe[:x.size(0), :]\n",
    "        return self.dropout(x)"
   ]
  },
  {
   "cell_type": "code",
   "execution_count": 9,
   "metadata": {},
   "outputs": [],
   "source": [
    "# Finally, we define the full Transformer Decoder, which includes the initial embedding layer, \n",
    "# a single Transformer Decoder block, and the final linear and softmax layers.\n",
    "\n",
    "class TransformerDecoder(nn.Module):\n",
    "    def __init__(self, vocab_size, d_model, num_heads, ff_hidden_dim, dropout):\n",
    "        super(TransformerDecoder, self).__init__()\n",
    "\n",
    "    # The __init__ function defines the hyperparameters and layers of the TransformerDecoder.\n",
    "    # vocab_size: the size of the vocabulary.\n",
    "    # d_model, num_heads, ff_hidden_dim, dropout: hyperparameters for the Transformer decoder block.\n",
    "\n",
    "    # Embedding layer: transforms the input words (given as indices) into dense vectors of dimension d_model.\n",
    "    # Positional encoding: adds a vector to each input embedding that depends on its position in the sequence.\n",
    "    # Transformer block: the Transformer decoder block defined earlier.\n",
    "    # Linear layer: a linear transformation to the output dimension equal to the vocabulary size.\n",
    "    # Softmax layer: transforms the output into a probability distribution over the vocabulary.\n",
    "\n",
    "        self.embedding = nn.Embedding(vocab_size, d_model)\n",
    "        self.pos_encoder = PositionalEncoding(d_model, dropout)\n",
    "        self.transformer_block = DecoderBlock(d_model, num_heads, ff_hidden_dim, dropout)\n",
    "        self.linear = nn.Linear(d_model, vocab_size)\n",
    "        self.softmax = nn.LogSoftmax(dim=-1)\n",
    "\n",
    "    # The forward method of the TransformerDecoder defines how the data flows through the decoder.\n",
    "\n",
    "    def forward(self, x):\n",
    "        x = self.embedding(x)\n",
    "        x = self.pos_encoder(x)\n",
    "        tgt_mask = generate_square_subsequent_mask(x.size(0))\n",
    "        x = self.transformer_block(x,tgt_mask)\n",
    "        output = self.linear(x)\n",
    "        output = self.softmax(output)\n",
    "        return output"
   ]
  },
  {
   "cell_type": "markdown",
   "metadata": {},
   "source": [
    " ### Why we need to mask our input for decoders"
   ]
  },
  {
   "cell_type": "code",
   "execution_count": 10,
   "metadata": {},
   "outputs": [
    {
     "name": "stderr",
     "output_type": "stream",
     "text": [
      "/Users/vmishra/.pyenv/versions/3.10.4/lib/python3.10/site-packages/matplotlib/colors.py:1370: RuntimeWarning: invalid value encountered in subtract\n",
      "  resdat -= vmin\n",
      "/Users/vmishra/.pyenv/versions/3.10.4/lib/python3.10/site-packages/matplotlib/colors.py:1371: RuntimeWarning: invalid value encountered in divide\n",
      "  resdat /= (vmax - vmin)\n"
     ]
    },
    {
     "data": {
      "image/png": "[encoded data removed]",
      "text/plain": [
       "<Figure size 500x500 with 1 Axes>"
      ]
     },
     "metadata": {},
     "output_type": "display_data"
    }
   ],
   "source": [
    "def generate_square_subsequent_mask(sz):\n",
    "    \"\"\"Generate a mask to prevent attention to future positions.\"\"\"\n",
    "    mask = (torch.triu(torch.ones(sz, sz)) == 1).transpose(0, 1)\n",
    "    mask = mask.float().masked_fill(mask == 0, float('-inf')).masked_fill(mask == 1, float(0.0))\n",
    "    return mask\n",
    "\n",
    "mask = generate_square_subsequent_mask(sz=5)\n",
    "\n",
    "plt.figure(figsize=(5,5))\n",
    "seaborn.heatmap(mask, cmap=\"viridis\", cbar=False, square=True)\n",
    "plt.title(\"Mask for Transformer Decoder\")\n",
    "plt.show()"
   ]
  },
  {
   "cell_type": "markdown",
   "metadata": {},
   "source": [
    " ### Let's make our first decoder"
   ]
  },
  {
   "cell_type": "code",
   "execution_count": 11,
   "metadata": {},
   "outputs": [
    {
     "name": "stdout",
     "output_type": "stream",
     "text": [
      "torch.Size([50, 1, 1000])\n",
      "torch.Size([50, 1])\n"
     ]
    }
   ],
   "source": [
    "# Define the hyperparameters\n",
    "vocab_size     = 1000\n",
    "d_model        = 512\n",
    "num_heads      = 1\n",
    "ff_hidden_dim  = 2*d_model\n",
    "dropout        = 0.1\n",
    "num_layers     = 10\n",
    "context_length = 50\n",
    "batch_size     = 1\n",
    "# Initialize the model\n",
    "model = TransformerDecoder(vocab_size, d_model, num_heads, ff_hidden_dim, dropout)\n",
    "\n",
    "# Create a tensor representing a batch of 1 sequences of length 10\n",
    "input_tensor = torch.randint(0, vocab_size, (context_length, batch_size))\n",
    "\n",
    "# Forward pass through the model\n",
    "output = model(input_tensor)\n",
    "\n",
    "# The output is a tensor of shape (sequence_length, batch_size, vocab_size)\n",
    "print(output.shape)  # Should print torch.Size([context_length, batch_size, vocab_size])\n",
    "\n",
    "# To get the predicted word indices, we can use the `argmax` function\n",
    "predicted_indices = output.argmax(dim=-1)\n",
    "\n",
    "# Now `predicted_indices` is a tensor of shape (sequence_length, batch_size) containing the predicted word indices\n",
    "print(predicted_indices.shape)  # Should print torch.Size([context_length, batch_size])\n"
   ]
  },
  {
   "cell_type": "code",
   "execution_count": 12,
   "metadata": {},
   "outputs": [
    {
     "name": "stdout",
     "output_type": "stream",
     "text": [
      "The model has 3,127,784 trainable parameters\n"
     ]
    }
   ],
   "source": [
    "def count_parameters(model):\n",
    "    return sum(p.numel() for p in model.parameters() if p.requires_grad)\n",
    "\n",
    "print(f\"The model has {count_parameters(model):,} trainable parameters\")"
   ]
  },
  {
   "cell_type": "markdown",
   "metadata": {},
   "source": [
    " ### Looking at the output"
   ]
  },
  {
   "cell_type": "code",
   "execution_count": 13,
   "metadata": {},
   "outputs": [
    {
     "data": {
      "image/png": "[encoded data removed]",
      "text/plain": [
       "<Figure size 1200x600 with 1 Axes>"
      ]
     },
     "metadata": {},
     "output_type": "display_data"
    }
   ],
   "source": [
    "# Convert the log probabilities to probabilities\n",
    "distribution = torch.exp(output[0, 0, :])\n",
    "\n",
    "# Convert the output tensor to numpy array\n",
    "distribution = distribution.detach().numpy()\n",
    "\n",
    "# Now plot the distribution\n",
    "plt.figure(figsize=(12, 6))\n",
    "plt.bar(np.arange(vocab_size), distribution)\n",
    "plt.xlabel(\"Word Index\")\n",
    "plt.ylabel(\"Probability\")\n",
    "plt.title(\"Output Distribution over Vocabulary\")\n",
    "plt.show()"
   ]
  },
  {
   "cell_type": "markdown",
   "metadata": {},
   "source": [
    "# Section 3: Multi-layer Decoder\n",
    "Let's allow for multiple layers in our decoder so we can form models like GPT"
   ]
  },
  {
   "cell_type": "code",
   "execution_count": 14,
   "metadata": {},
   "outputs": [],
   "source": [
    "class MultiLayerTransformerDecoder(nn.Module):\n",
    "    def __init__(self, vocab_size, d_model, num_heads, ff_hidden_dim, dropout, num_layers):\n",
    "        super(MultiLayerTransformerDecoder, self).__init__()\n",
    "\n",
    "# The __init__ function now also takes a `num_layers` argument, which specifies the number of decoder blocks.\n",
    "\n",
    "        self.embedding = nn.Embedding(vocab_size, d_model)\n",
    "        self.pos_encoder = PositionalEncoding(d_model, dropout)\n",
    "        self.transformer_blocks = nn.ModuleList([\n",
    "            DecoderBlock(d_model, num_heads, ff_hidden_dim, dropout)\n",
    "            for _ in range(num_layers)\n",
    "        ])\n",
    "        self.linear = nn.Linear(d_model, vocab_size)\n",
    "        self.softmax = nn.LogSoftmax(dim=-1)\n",
    "\n",
    "# The forward method has been updated to pass the input through each transformer block in sequence.\n",
    "\n",
    "    def forward(self, x):\n",
    "        x = self.embedding(x)\n",
    "        x = self.pos_encoder(x)\n",
    "        for transformer_block in self.transformer_blocks:\n",
    "            tgt_mask = generate_square_subsequent_mask(x.size(0))\n",
    "            x = transformer_block(x,tgt_mask)\n",
    "        output = self.linear(x)\n",
    "        output = self.softmax(output)\n",
    "        return output\n"
   ]
  },
  {
   "cell_type": "code",
   "execution_count": 18,
   "metadata": {},
   "outputs": [
    {
     "name": "stdout",
     "output_type": "stream",
     "text": [
      "The model has 544,552,720 trainable parameters\n"
     ]
    },
    {
     "data": {
      "image/png": "[encoded data removed]",
      "text/plain": [
       "<Figure size 864x432 with 1 Axes>"
      ]
     },
     "metadata": {
      "needs_background": "light"
     },
     "output_type": "display_data"
    }
   ],
   "source": [
    "# Define the hyperparameters\n",
    "vocab_size     = 10000\n",
    "d_model        = 2048\n",
    "num_heads      = 1\n",
    "ff_hidden_dim  = 4*d_model\n",
    "dropout        = 0.1\n",
    "num_layers     = 10\n",
    "context_length = 100\n",
    "batch_size     = 1\n",
    "\n",
    "# Create our input to the model to process\n",
    "input_tensor = torch.randint(0, vocab_size, (context_length, batch_size))\n",
    "\n",
    "# Initialize the model with `num_layer` layers\n",
    "model = MultiLayerTransformerDecoder(vocab_size, d_model, num_heads, ff_hidden_dim, dropout, num_layers)\n",
    "\n",
    "# Print the number of trainable parameters\n",
    "print(f\"The model has {count_parameters(model):,} trainable parameters\")\n",
    "\n",
    "# Let's use the same input_tensor from the previous example\n",
    "output = model(input_tensor)\n",
    "\n",
    "# Convert the log probabilities to probabilities for the first sequence in the batch and the first position in the sequence\n",
    "distribution = torch.exp(output[0, 0, :])\n",
    "\n",
    "# Convert the output tensor to numpy array\n",
    "distribution = distribution.detach().numpy()\n",
    "\n",
    "# Now plot the distribution\n",
    "plt.figure(figsize=(12, 6))\n",
    "plt.bar(np.arange(vocab_size), distribution)\n",
    "plt.xlabel(\"Word Index\")\n",
    "plt.ylabel(\"Probability\")\n",
    "plt.title(\"Output Distribution over Vocabulary\")\n",
    "plt.show()"
   ]
  },
  {
   "cell_type": "code",
   "execution_count": 15,
   "metadata": {},
   "outputs": [
    {
     "data": {
      "text/plain": [
       "TransformerDecoder(\n",
       "  (embedding): Embedding(1000, 512)\n",
       "  (pos_encoder): PositionalEncoding(\n",
       "    (dropout): Dropout(p=0.1, inplace=False)\n",
       "  )\n",
       "  (transformer_block): DecoderBlock(\n",
       "    (self_attention): MultiheadAttention(\n",
       "      (out_proj): NonDynamicallyQuantizableLinear(in_features=512, out_features=512, bias=True)\n",
       "    )\n",
       "    (norm1): LayerNorm((512,), eps=1e-05, elementwise_affine=True)\n",
       "    (dropout1): Dropout(p=0.1, inplace=False)\n",
       "    (linear1): Linear(in_features=512, out_features=1024, bias=True)\n",
       "    (linear2): Linear(in_features=1024, out_features=512, bias=True)\n",
       "    (norm2): LayerNorm((512,), eps=1e-05, elementwise_affine=True)\n",
       "    (dropout2): Dropout(p=0.1, inplace=False)\n",
       "  )\n",
       "  (linear): Linear(in_features=512, out_features=1000, bias=True)\n",
       "  (softmax): LogSoftmax(dim=-1)\n",
       ")"
      ]
     },
     "execution_count": 15,
     "metadata": {},
     "output_type": "execute_result"
    }
   ],
   "source": [
    "model"
   ]
  },
  {
   "cell_type": "markdown",
   "metadata": {},
   "source": [
    "# Section 4: Adding real vocabulary to our model\n",
    "Rather than just using a random integer, let's add in a small vocabulary of real words and let our model speak!"
   ]
  },
  {
   "cell_type": "code",
   "execution_count": 16,
   "metadata": {},
   "outputs": [
    {
     "name": "stdout",
     "output_type": "stream",
     "text": [
      "among of out by by about in through after of "
     ]
    }
   ],
   "source": [
    "# Define the hyperparameters\n",
    "d_model        = 100\n",
    "num_heads      = 1\n",
    "ff_hidden_dim  = 4*d_model\n",
    "dropout        = 0.1\n",
    "num_layers     = 4\n",
    "context_length = 5\n",
    "batch_size     = 1\n",
    "# Define the vocabulary\n",
    "vocab = [\"of\", \"in\", \"to\", \"for\", \"with\", \"on\", \"at\", \"from\", \"by\", \"about\", \"as\", \"into\", \"like\", \"through\", \"after\", \"over\", \"between\", \"out\", \"against\", \"during\", \"without\", \"before\", \"under\", \"around\", \"among\"]\n",
    "vocab_size = len(vocab)\n",
    "\n",
    "# Create a dictionary that maps words to indices\n",
    "word2id = {word: id for id, word in enumerate(vocab)}\n",
    "\n",
    "# Create a dictionary that maps indices to words\n",
    "id2word = {id: word for id, word in enumerate(vocab)}\n",
    "\n",
    "# Initialize the model\n",
    "model = MultiLayerTransformerDecoder(vocab_size, d_model, num_heads, ff_hidden_dim, dropout, num_layers)\n",
    "\n",
    "# Create a tensor representing a single sequence of variable length\n",
    "# Here we randomly select words from our vocabulary\n",
    "sequence = [\"of\", \"in\", \"to\", \"for\", \"with\", \"on\", \"at\"][:context_length]\n",
    "input_tensor = torch.tensor([[word2id[word] for word in sequence]])\n",
    "\n",
    "# Generate a sequence of words\n",
    "generated_words = []\n",
    "for i in range(10):  # Generate 10 words\n",
    "    output = model(input_tensor)\n",
    "    predicted_index = output.argmax(dim=-1)[0, -1]  # Take the last word in the sequence\n",
    "    predicted_word = id2word[predicted_index.item()]\n",
    "    print(predicted_word, end=\" \")\n",
    "    generated_words.append(predicted_word)\n",
    "    input_tensor = torch.cat([input_tensor, predicted_index.unsqueeze(0).unsqueeze(0)], dim=-1)  # Append the predicted word to the input\n",
    "    time.sleep(0.75)  # Pause for 1 second\n"
   ]
  },
  {
   "cell_type": "markdown",
   "metadata": {},
   "source": [
    "# Section 5: Using a trained decoder and real-world vocabulary\n",
    "Training our model will take a long time, let's look at two trained versions of what we've been building, GPT and GPT-XL. These are both decoder models with only slight changes in sizes"
   ]
  },
  {
   "cell_type": "code",
   "execution_count": 17,
   "metadata": {},
   "outputs": [
    {
     "name": "stderr",
     "output_type": "stream",
     "text": [
      "/Users/vmishra/.pyenv/versions/3.10.4/lib/python3.10/site-packages/tqdm/auto.py:21: TqdmWarning: IProgress not found. Please update jupyter and ipywidgets. See https://ipywidgets.readthedocs.io/en/stable/user_install.html\n",
      "  from .autonotebook import tqdm as notebook_tqdm\n",
      "Downloading (…)olve/main/vocab.json: 100%|████████████████████████████| 1.04M/1.04M [00:00<00:00, 1.20MB/s]\n",
      "Downloading (…)olve/main/merges.txt: 100%|██████████████████████████████| 456k/456k [00:00<00:00, 9.07MB/s]\n",
      "Downloading (…)lve/main/config.json: 100%|████████████████████████████████| 665/665 [00:00<00:00, 4.41MB/s]\n",
      "Downloading model.safetensors: 100%|████████████████████████████████████| 548M/548M [01:01<00:00, 8.94MB/s]\n",
      "Downloading (…)neration_config.json: 100%|█████████████████████████████████| 124/124 [00:00<00:00, 668kB/s]\n"
     ]
    }
   ],
   "source": [
    "# Import the necessary libraries\n",
    "from transformers import GPT2LMHeadModel, GPT2Tokenizer\n",
    "\n",
    "# Load pre-trained models and tokenizers\n",
    "tokenizer_small = GPT2Tokenizer.from_pretrained(\"gpt2\", cache_dir=\"../datsets/models\")\n",
    "model_small = GPT2LMHeadModel.from_pretrained(\"gpt2\", cache_dir=\"../datsets/models\")"
   ]
  },
  {
   "cell_type": "code",
   "execution_count": 18,
   "metadata": {},
   "outputs": [],
   "source": [
    "# Define a prompt. This is the initial string of text that the model will use to start generating text.\n",
    "prompt = \"This is a MOOC about large language models, I have only just started, but already\""
   ]
  },
  {
   "cell_type": "code",
   "execution_count": 19,
   "metadata": {},
   "outputs": [
    {
     "name": "stdout",
     "output_type": "stream",
     "text": [
      "This is a MOOC about large language models, I have only just started, but already  we  can  draw  attention  to  an  existing  proposal  that  we  are  considering . \n",
      " \n",
      " What  are  large  language  implementations ? \n",
      " \n",
      " L anguages \n",
      "GPT-2 Small completed.\n"
     ]
    }
   ],
   "source": [
    "# We use the tokenizer to convert the prompt into a format that the model can understand. In this case,\n",
    "# it converts the string into a sequence of token IDs, which are numbers that represent each word or subword in the string.\n",
    "inputs_small = tokenizer_small.encode(prompt, return_tensors='pt')\n",
    "\n",
    "# Create an attention mask. This is a sequence of 1s and 0s where 1s indicate that the corresponding token should\n",
    "# be attended to and 0s indicate that the token should be ignored. Here, all tokens should be attended to.\n",
    "attention_mask_small = torch.ones(inputs_small.shape, dtype=torch.long)\n",
    "\n",
    "# Get the ID of the special end-of-sequence (EOS) token from the tokenizer. This token indicates the end of a sequence.\n",
    "pad_token_id_small = tokenizer_small.eos_token_id  \n",
    "\n",
    "# Print the initial prompt. The 'end' argument specifies what to print at the end (default is newline, but we want space).\n",
    "# 'flush' argument ensures that the output is printed immediately.\n",
    "print(prompt, end=\" \", flush=True)\n",
    "\n",
    "# We're going to generate 25 words\n",
    "for _ in range(25):\n",
    "\n",
    "    # Generate the next part of the sequence. 'do_sample=True' means to sample from the distribution of possible next tokens\n",
    "    # rather than just taking the most likely next token. 'pad_token_id' argument is to tell the model what token to use if it\n",
    "    # needs to pad the sequence to a certain length.\n",
    "    outputs_small = model_small.generate(inputs_small, max_length=inputs_small.shape[-1]+1, do_sample=True, pad_token_id=pad_token_id_small,\n",
    "                                         attention_mask=attention_mask_small)\n",
    "\n",
    "    # The generated output is a sequence of token IDs, so we use the tokenizer to convert these back into words.\n",
    "    generated_word = tokenizer_small.decode(outputs_small[0][-1])\n",
    "\n",
    "    # Print the generated word, followed by a space. We use 'end' and 'flush' arguments as before.\n",
    "    print(generated_word, end=' ', flush=True)\n",
    "\n",
    "    # Append the generated token to the input sequence for the next round of generation. We have to add extra dimensions \n",
    "    # to the tensor to match the shape of the input tensor (which is 2D: batch size x sequence length).\n",
    "    inputs_small = torch.cat([inputs_small, outputs_small[0][-1].unsqueeze(0).unsqueeze(0)], dim=-1)\n",
    "\n",
    "    # Extend the attention mask for the new token. Like before, it should be attended to, so we add a 1.\n",
    "    attention_mask_small = torch.cat([attention_mask_small, torch.ones((1, 1), dtype=torch.long)], dim=-1)\n",
    "\n",
    "    # We pause for 0.7 seconds to make the generation more readable.\n",
    "    time.sleep(0.7)\n",
    "\n",
    "# Finally, print a newline and a completion message.\n",
    "print(\"\\nGPT-2 Small completed.\")"
   ]
  },
  {
   "cell_type": "code",
   "execution_count": 21,
   "metadata": {},
   "outputs": [
    {
     "name": "stderr",
     "output_type": "stream",
     "text": [
      "Downloading (…)olve/main/vocab.json: 100%|████████████████████████████| 1.04M/1.04M [00:00<00:00, 1.13MB/s]\n",
      "Downloading (…)olve/main/merges.txt: 100%|██████████████████████████████| 456k/456k [00:00<00:00, 8.08MB/s]\n",
      "Downloading (…)lve/main/config.json: 100%|████████████████████████████████| 689/689 [00:00<00:00, 2.38MB/s]\n",
      "Downloading pytorch_model.bin: 100%|██████████████████████████████████| 6.43G/6.43G [11:34<00:00, 9.26MB/s]\n",
      "Downloading (…)neration_config.json: 100%|████████████████████████████████| 124/124 [00:00<00:00, 93.2kB/s]\n"
     ]
    }
   ],
   "source": [
    "tokenizer_large = GPT2Tokenizer.from_pretrained(\"gpt2-XL\", cache_dir=\"../datasets/models\")\n",
    "model_large = GPT2LMHeadModel.from_pretrained(\"gpt2-XL\", cache_dir=\"../datasets/models\")"
   ]
  },
  {
   "cell_type": "code",
   "execution_count": 22,
   "metadata": {},
   "outputs": [
    {
     "name": "stdout",
     "output_type": "stream",
     "text": [
      "This is a MOOC about large language models, I have only just started, but already  have  a  paper  published  ( link  in  my  bio )  and  will  be  writing  some  papers  on  the  course  as  well . \n",
      " \n",
      " Also \n",
      "GPT-2 XL completed.\n"
     ]
    }
   ],
   "source": [
    "# Generate text with GPT-2 XL\n",
    "inputs_large = tokenizer_large.encode(prompt, return_tensors=\"pt\")\n",
    "\n",
    "# Add in the attention mask and pad token id\n",
    "attention_mask_large = torch.ones(inputs_large.shape, dtype=torch.long)  # Creating a mask of ones with the same shape as inputs\n",
    "pad_token_id_large = tokenizer_large.eos_token_id  # Get the eos_token_id from the tokenizer\n",
    "\n",
    "print(prompt, end=\" \", flush=True)\n",
    "for _ in range(25):  # Generate 25 words\n",
    "    outputs_large = model_large.generate(inputs_large, max_length=inputs_large.shape[-1]+1, do_sample=True, pad_token_id=pad_token_id_large,\n",
    "                                         attention_mask=attention_mask_large)\n",
    "    generated_word = tokenizer_large.decode(outputs_large[0][-1])\n",
    "    print(generated_word, end=\" \", flush=True)\n",
    "    inputs_large = torch.cat([inputs_large, outputs_large[0][-1].unsqueeze(0).unsqueeze(0)], dim=-1)\n",
    "    attention_mask_large = torch.cat([attention_mask_large, torch.ones((1, 1), dtype=torch.long)], dim=-1)\n",
    "    time.sleep(0.7)\n",
    "print(\"\\nGPT-2 XL completed.\")"
   ]
  },
  {
   "cell_type": "markdown",
   "metadata": {},
   "source": [
    "-sandbox\n",
    "&copy; 2023 Databricks, Inc. All rights reserved.<br/>\n",
    "Apache, Apache Spark, Spark and the Spark logo are trademarks of the <a href=\"https://www.apache.org/\">Apache Software Foundation</a>.<br/>\n",
    "<br/>\n",
    "<a href=\"https://databricks.com/privacy-policy\">Privacy Policy</a> | <a href=\"https://databricks.com/terms-of-use\">Terms of Use</a> | <a href=\"https://help.databricks.com/\">Support</a>"
   ]
  }
 ],
 "metadata": {
  "anaconda-cloud": {},
  "kernelspec": {
   "display_name": "Python 3 (ipykernel)",
   "language": "python",
   "name": "python3"
  },
  "language_info": {
   "codemirror_mode": {
    "name": "ipython",
    "version": 3
   },
   "file_extension": ".py",
   "mimetype": "text/x-python",
   "name": "python",
   "nbconvert_exporter": "python",
   "pygments_lexer": "ipython3",
   "version": "3.10.4"
  }
 },
 "nbformat": 4,
 "nbformat_minor": 4
}
