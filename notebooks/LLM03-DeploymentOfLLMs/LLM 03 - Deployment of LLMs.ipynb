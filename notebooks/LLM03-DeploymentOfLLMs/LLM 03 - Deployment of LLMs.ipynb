{
 "cells": [
  {
   "cell_type": "markdown",
   "metadata": {},
   "source": [
    "<div style=\"text-align: center; line-height: 0; padding-top: 9px;\">\n",
    "  <img src=\"https://databricks.com/wp-content/uploads/2018/03/db-academy-rgb-1200px.png\" alt=\"Databricks Learning\" style=\"width: 600px\">\n",
    "</div>"
   ]
  },
  {
   "cell_type": "markdown",
   "metadata": {},
   "source": [
    "# Understanding and Applying Quantization\n",
    "Quantization is a method that can allow models to run faster and use less memory. By converting 32-bit floating-point numbers (the `float32` data type) into lower-precision formats, like 8-bit integers (the `int8` data type), we can reduce the computational requirements of our models. Let's start with the basics and gradually move towards quantizing complex models like CNNs.\n",
    "\n",
    "### ![Dolly](https://files.training.databricks.com/images/llm/dolly_small.png) Learning Objectives\n",
    "1. Explore how to quantize a a single variable and a function in pytorch\n",
    "1. Apply quantization to a neural network\n",
    "1. Compare the size and performance of quantized convolutional neural network "
   ]
  },
  {
   "cell_type": "markdown",
   "metadata": {},
   "source": [
    "## Classroom Setup"
   ]
  },
  {
   "cell_type": "code",
   "execution_count": null,
   "metadata": {},
   "outputs": [],
   "source": [
    "# MAGIC %run ../Includes/Classroom-Setup"
   ]
  },
  {
   "cell_type": "code",
   "execution_count": 1,
   "metadata": {},
   "outputs": [],
   "source": [
    "import numpy as np\n",
    "import matplotlib.pyplot as plt\n",
    "import torch\n",
    "import torch.nn as nn\n",
    "import torch.optim as optim\n",
    "import torchvision\n",
    "import torchvision.transforms as transforms\n",
    "from torch.utils.data import DataLoader\n",
    "import sys\n",
    "import io"
   ]
  },
  {
   "cell_type": "markdown",
   "metadata": {},
   "source": [
    "# Section 1 - Quantization\n",
    "We'll illustrate both 4-bit and 8-bit quantization. As for the neural network part, we'll create a simple model and show how to quantize and dequantize its weights. Since we can't download data or train models in this environment, I'll present the code you would use to do it."
   ]
  },
  {
   "cell_type": "markdown",
   "metadata": {},
   "source": [
    "### 1. Quantization of a Single Value\n",
    "Quantization is the process of constraining an input from a large set to output in a smaller set. In the context of deep learning, it's used to reduce the precision of the weights and activations of the neural network models. This can help to reduce the memory footprint and computational intensity of models. Here, we'll start by quantizing a single floating point number.\n",
    "\n",
    "We'll define two functions: one to quantize a value and another to unquantize it. The quantize function will take a floating point number and a number of bits, and will output an integer representation of the input number. The unquantize function will take the integer and the number of bits, and will output the floating point number.\n",
    "\n",
    "The range of input values for the quantize function is between -1 and 1. The range of output values for the unquantize function is also between -1 and 1. The number of bits determines the precision of the quantization. More bits means higher precision, but more memory usage. For this demonstration, we'll use 4 and 8 bits."
   ]
  },
  {
   "cell_type": "code",
   "execution_count": 2,
   "metadata": {},
   "outputs": [],
   "source": [
    "# Let's start by defining the quantize and unquantize functions:\n",
    "\n",
    "def quantize(value, bits):\n",
    "    \"\"\"\n",
    "    Quantizes a floating point number to an integer, given a certain number of bits.\n",
    "    The range is from -1.0 to 1.0.\n",
    "    \n",
    "    Args:\n",
    "    value (float): The value to be quantized.\n",
    "    bits (int): The number of bits used for quantization.\n",
    "    \n",
    "    Returns:\n",
    "    int: The quantized value.\n",
    "    \"\"\"\n",
    "    assert -1.0 <= value <= 1.0, \"Value out of range\"\n",
    "    quantized_value = np.round(value * (2**(bits - 1) - 1))\n",
    "    return int(quantized_value)\n",
    "\n",
    "def unquantize(quantized_value, bits):\n",
    "    \"\"\"\n",
    "    Unquantizes an integer back to a floating point number, given the original number of bits.\n",
    "    The range is from -1.0 to 1.0.\n",
    "    \n",
    "    Args:\n",
    "    quantized_value (int): The value to be unquantized.\n",
    "    bits (int): The number of bits used for quantization.\n",
    "    \n",
    "    Returns:\n",
    "    float: The unquantized value.\n",
    "    \"\"\"\n",
    "    value = quantized_value / (2**(bits - 1) - 1)\n",
    "    return float(value)"
   ]
  },
  {
   "cell_type": "code",
   "execution_count": 3,
   "metadata": {},
   "outputs": [
    {
     "name": "stdout",
     "output_type": "stream",
     "text": [
      "Original Value: 0.5\n",
      "----\n",
      "4-bit Quantization:4\n",
      "4-bit Unquantization: 0.5714285714285714\n",
      "----\n",
      "8-bit Quantization:64\n",
      "8-bit Unquantization: 0.5039370078740157\n"
     ]
    }
   ],
   "source": [
    "# Test the quantize and unquantize functions with 4 and 8 bits\n",
    "value = 0.5\n",
    "quantized_value_4bit = quantize(value, bits=4)\n",
    "unquantized_value_4bit = unquantize(quantized_value_4bit, bits=4)\n",
    "\n",
    "quantized_value_8bit = quantize(value, bits=8)\n",
    "unquantized_value_8bit = unquantize(quantized_value_8bit, bits=8)\n",
    "\n",
    "print(f\"Original Value: {value}\\n----\\n4-bit Quantization:{quantized_value_4bit}\\n4-bit Unquantization: {unquantized_value_4bit}\\n----\\n8-bit Quantization:{quantized_value_8bit}\\n8-bit Unquantization: {unquantized_value_8bit}\")"
   ]
  },
  {
   "cell_type": "markdown",
   "metadata": {},
   "source": [
    "The quantize and unquantize functions are working as expected. The float value 0.5 was quantized to 4 and 64 for 4-bit and 8-bit precision respectively. Then, the quantized values were unquantized back to approximately 0.5 (with some deviation due to the rounding operation in the quantization process)."
   ]
  },
  {
   "cell_type": "markdown",
   "metadata": {},
   "source": [
    "### 2. Quantization of a Function\n",
    "Now let's demonstrate quantization and unquantization with a function. To simplify, we'll use the sine function as an example. For this demonstration, we'll generate values, quantize them, and then unquantize them. We'll plot the original, quantized, and unquantized values to visualize the effects of quantization.\n",
    "\n",
    "We'll start by generating the values of the sine function, then we'll quantize and unquantize those values. Finally, we'll plot the original, quantized, and unquantized values."
   ]
  },
  {
   "cell_type": "code",
   "execution_count": 4,
   "metadata": {},
   "outputs": [
    {
     "name": "stdout",
     "output_type": "stream",
     "text": [
      "Loss of 4-bit quantization: 0.001522312728708395\n",
      "Loss of 8-bit quantization: 4.526987993234362e-06\n"
     ]
    }
   ],
   "source": [
    "# # Generate values\n",
    "x = np.linspace(-1, 1, 100)\n",
    "y = np.sin(np.pi * x)\n",
    "\n",
    "# Quantize and unquantize values for 4 and 8 bits\n",
    "y_quantized_4bit = np.array([quantize(val, bits=4) for val in y])\n",
    "y_unquantized_4bit = np.array([unquantize(val, bits=4) for val in y_quantized_4bit])\n",
    "\n",
    "y_quantized_8bit = np.array([quantize(val, bits=8) for val in y])\n",
    "y_unquantized_8bit = np.array([unquantize(val, bits=8) for val in y_quantized_8bit])\n",
    "\n",
    "# Calculate quantization loss for 4 and 8 bits\n",
    "loss_4bit = np.mean((y - y_unquantized_4bit)**2)\n",
    "loss_8bit = np.mean((y - y_unquantized_8bit)**2)\n",
    "\n",
    "print(f\"Loss of 4-bit quantization: {loss_4bit}\\nLoss of 8-bit quantization: {loss_8bit}\")"
   ]
  },
  {
   "cell_type": "code",
   "execution_count": 5,
   "metadata": {},
   "outputs": [
    {
     "data": {
      "image/png": "[encoded data removed]",
      "text/plain": [
       "<Figure size 720x864 with 4 Axes>"
      ]
     },
     "metadata": {
      "needs_background": "light"
     },
     "output_type": "display_data"
    }
   ],
   "source": [
    "# Plot original, quantized and unquantized values\n",
    "plt.figure(figsize=(10, 12))\n",
    "\n",
    "plt.subplot(4, 1, 1)\n",
    "plt.plot(x, y, label=\"Original\")\n",
    "plt.title(\"Original\")\n",
    "plt.grid(True)\n",
    "\n",
    "plt.subplot(4, 1, 2)\n",
    "plt.scatter(x, y_quantized_4bit, label=\"Quantized 4 bit\", marker=\"s\")\n",
    "plt.legend()\n",
    "plt.title(\"Quantized\")\n",
    "plt.grid(True)\n",
    "\n",
    "plt.subplot(4, 1, 3)\n",
    "plt.scatter(x, y_quantized_8bit, label=\"Quantized 8 bit\", marker=\"s\")\n",
    "plt.legend()\n",
    "plt.title(\"Quantized\")\n",
    "plt.grid(True)\n",
    "\n",
    "plt.subplot(4, 1, 4)\n",
    "plt.plot(x, y_unquantized_4bit, label=\"Unquantized 4 bit\")\n",
    "plt.plot(x, y_unquantized_8bit, label=\"Unquantized 8 bit\")\n",
    "plt.legend()\n",
    "plt.title(\"Unquantized\")\n",
    "plt.grid(True)\n",
    "\n",
    "plt.tight_layout()\n",
    "plt.show()"
   ]
  },
  {
   "cell_type": "markdown",
   "metadata": {},
   "source": [
    "The plots illustrate the original sine function, the 4-bit and 8-bit quantized values, and their unquantized counterparts.\n",
    "\n",
    "The 'Quantized' plot clearly shows the \"step\" pattern of the quantized values. The 8-bit quantized values have more levels and are closer to the original function compared to the 4-bit values, which have fewer levels and deviate more.\n",
    "\n",
    "The 'Unquantized' plot shows the values obtained by converting the quantized values back to floating-point numbers. The 8-bit unquantized values are very close to the original function, while the 4-bit unquantized values deviate more due to the reduced precision."
   ]
  },
  {
   "cell_type": "markdown",
   "metadata": {},
   "source": [
    " \n",
    "### 3. Quantization of a Simple Neural Network\n",
    "Next, let's apply quantization to a neural network. We'll create a simple network with one hidden layer, then we'll quantize and dequantize its weights.\n",
    "\n",
    "In PyTorch, [quantization](https://pytorch.org/docs/stable/quantization.html) is achieved using a `QuantStub` and `DeQuantStub` to mark the points in the model where the data needs to be converted to quantized form and converted back to floating point form, respectively. After defining the network with these stubs, we use the `torch.quantization.prepare` and `torch.quantization.convert` functions to quantize the model.\n",
    "\n",
    "The process of quantizing a model in PyTorch involves the following steps:\n",
    "\n",
    "- Define a neural network and mark the points in the model where the data needs to be converted to quantized form and converted back to floating point form. This is done using a `QuantStub` and `DeQuantStub`.\n",
    "- Specify a quantization configuration for the model using `torch.quantization.get_default_qconfig`. This sets up the quantization parameters.\n",
    "- Prepare the model for quantization using `torch.quantization.prepare`. This function replaces specified modules in the model with their quantized counterparts.\n",
    "- Calibrate the model on a calibration dataset. During calibration, the model is run on a calibration dataset and the range of the activations is observed. This is used to determine the parameters for quantization.\n",
    "- Convert the prepared and calibrated model to a quantized version using torch.quantization.convert. This function changes these modules to use quantized weights."
   ]
  },
  {
   "cell_type": "code",
   "execution_count": 6,
   "metadata": {},
   "outputs": [],
   "source": [
    "# Define the network architecture\n",
    "class Net(nn.Module):\n",
    "    def __init__(self):\n",
    "        super(Net, self).__init__()\n",
    "        # QuantStub will act as a placeholder for the quantization process, it simulates quantization of inputs to the model.\n",
    "        self.quant = torch.quantization.QuantStub()\n",
    "        \n",
    "        # Define two fully connected layers (aka linear layers) for our simple neural network\n",
    "        self.fc1 = nn.Linear(28 * 28, 128)  # Input size is 28*28 (size of a flattened MNIST image), output size is 128\n",
    "        self.fc2 = nn.Linear(128, 10)  # Input size is 128 (output of previous layer), output size is 10 (for 10 classes)\n",
    "\n",
    "        # DeQuantStub simulates the dequantization of the final output of the model, converting it back to a floating point number.\n",
    "        self.dequant = torch.quantization.DeQuantStub()\n",
    "\n",
    "    def forward(self, x):\n",
    "        # Reshape the input tensor to a vector of size 28*28\n",
    "        x = x.view(-1, 28 * 28)\n",
    "        \n",
    "        # Pass the input through the QuantStub, which will simulate the quantization of the input tensor\n",
    "        x = self.quant(x)\n",
    "        \n",
    "        # Apply the first fully connected layer and ReLU activation function\n",
    "        x = torch.relu(self.fc1(x))\n",
    "        \n",
    "        # Apply the second fully connected layer\n",
    "        x = self.fc2(x)\n",
    "        \n",
    "        # Pass the output through the DeQuantStub, which will simulate the dequantization of the output tensor\n",
    "        x = self.dequant(x)\n",
    "        \n",
    "        return x"
   ]
  },
  {
   "cell_type": "code",
   "execution_count": 7,
   "metadata": {},
   "outputs": [
    {
     "ename": "NameError",
     "evalue": "name 'DA' is not defined",
     "output_type": "error",
     "traceback": [
      "\u001b[0;31m---------------------------------------------------------------------------\u001b[0m",
      "\u001b[0;31mNameError\u001b[0m                                 Traceback (most recent call last)",
      "\u001b[0;32m<ipython-input-7-731f55112e2a>\u001b[0m in \u001b[0;36m<module>\u001b[0;34m\u001b[0m\n\u001b[1;32m      1\u001b[0m \u001b[0;31m# Load the MNIST dataset\u001b[0m\u001b[0;34m\u001b[0m\u001b[0;34m\u001b[0m\u001b[0;34m\u001b[0m\u001b[0m\n\u001b[1;32m      2\u001b[0m \u001b[0mtransform\u001b[0m \u001b[0;34m=\u001b[0m \u001b[0mtransforms\u001b[0m\u001b[0;34m.\u001b[0m\u001b[0mCompose\u001b[0m\u001b[0;34m(\u001b[0m\u001b[0;34m[\u001b[0m\u001b[0mtransforms\u001b[0m\u001b[0;34m.\u001b[0m\u001b[0mToTensor\u001b[0m\u001b[0;34m(\u001b[0m\u001b[0;34m)\u001b[0m\u001b[0;34m,\u001b[0m \u001b[0mtransforms\u001b[0m\u001b[0;34m.\u001b[0m\u001b[0mNormalize\u001b[0m\u001b[0;34m(\u001b[0m\u001b[0;34m(\u001b[0m\u001b[0;36m0.1307\u001b[0m\u001b[0;34m,\u001b[0m\u001b[0;34m)\u001b[0m\u001b[0;34m,\u001b[0m \u001b[0;34m(\u001b[0m\u001b[0;36m0.3081\u001b[0m\u001b[0;34m,\u001b[0m\u001b[0;34m)\u001b[0m\u001b[0;34m)\u001b[0m\u001b[0;34m]\u001b[0m\u001b[0;34m)\u001b[0m\u001b[0;34m\u001b[0m\u001b[0;34m\u001b[0m\u001b[0m\n\u001b[0;32m----> 3\u001b[0;31m \u001b[0mtrainset\u001b[0m \u001b[0;34m=\u001b[0m \u001b[0mtorchvision\u001b[0m\u001b[0;34m.\u001b[0m\u001b[0mdatasets\u001b[0m\u001b[0;34m.\u001b[0m\u001b[0mMNIST\u001b[0m\u001b[0;34m(\u001b[0m\u001b[0mroot\u001b[0m\u001b[0;34m=\u001b[0m\u001b[0mDA\u001b[0m\u001b[0;34m.\u001b[0m\u001b[0mpaths\u001b[0m\u001b[0;34m.\u001b[0m\u001b[0mworking_dir\u001b[0m\u001b[0;34m,\u001b[0m \u001b[0mtrain\u001b[0m\u001b[0;34m=\u001b[0m\u001b[0;32mTrue\u001b[0m\u001b[0;34m,\u001b[0m \u001b[0mdownload\u001b[0m\u001b[0;34m=\u001b[0m\u001b[0;32mTrue\u001b[0m\u001b[0;34m,\u001b[0m \u001b[0mtransform\u001b[0m\u001b[0;34m=\u001b[0m\u001b[0mtransform\u001b[0m\u001b[0;34m)\u001b[0m\u001b[0;34m\u001b[0m\u001b[0;34m\u001b[0m\u001b[0m\n\u001b[0m\u001b[1;32m      4\u001b[0m \u001b[0mtrainloader\u001b[0m \u001b[0;34m=\u001b[0m \u001b[0mDataLoader\u001b[0m\u001b[0;34m(\u001b[0m\u001b[0mtrainset\u001b[0m\u001b[0;34m,\u001b[0m \u001b[0mbatch_size\u001b[0m\u001b[0;34m=\u001b[0m\u001b[0;36m64\u001b[0m\u001b[0;34m,\u001b[0m \u001b[0mshuffle\u001b[0m\u001b[0;34m=\u001b[0m\u001b[0;32mTrue\u001b[0m\u001b[0;34m)\u001b[0m\u001b[0;34m\u001b[0m\u001b[0;34m\u001b[0m\u001b[0m\n\u001b[1;32m      5\u001b[0m \u001b[0;34m\u001b[0m\u001b[0m\n",
      "\u001b[0;31mNameError\u001b[0m: name 'DA' is not defined"
     ]
    }
   ],
   "source": [
    "# Load the MNIST dataset\n",
    "transform = transforms.Compose([transforms.ToTensor(), transforms.Normalize((0.1307,), (0.3081,))])\n",
    "trainset = torchvision.datasets.MNIST(root=\"../workdir\", train=True, download=True, transform=transform)\n",
    "trainloader = DataLoader(trainset, batch_size=64, shuffle=True)\n",
    "\n",
    "# Define loss function and optimizer\n",
    "net = Net()\n",
    "criterion = nn.CrossEntropyLoss()\n",
    "optimizer = optim.SGD(net.parameters(), lr=0.01)"
   ]
  },
  {
   "cell_type": "code",
   "execution_count": null,
   "metadata": {},
   "outputs": [],
   "source": [
    "# Train the network\n",
    "for epoch in range(2):  # loop over the dataset multiple times\n",
    "    running_loss = 0.0\n",
    "    for i, data in enumerate(trainloader, 0):\n",
    "        # get the inputs; data is a list of [inputs, labels]\n",
    "        inputs, labels = data\n",
    "\n",
    "        # zero the parameter gradients\n",
    "        optimizer.zero_grad()\n",
    "\n",
    "        # forward + backward + optimize\n",
    "        outputs = net(inputs)\n",
    "        loss = criterion(outputs, labels)\n",
    "        loss.backward()\n",
    "        optimizer.step()\n",
    "\n",
    "        # print statistics\n",
    "        running_loss += loss.item()\n",
    "        if i % 200 == 199:    # print every 200 mini-batches\n",
    "            print(\"[%d, %5d] loss: %.3f\" %\n",
    "                  (epoch + 1, i + 1, running_loss / 200))\n",
    "            running_loss = 0.0\n",
    "\n",
    "print(\"Finished Training\")"
   ]
  },
  {
   "cell_type": "code",
   "execution_count": null,
   "metadata": {},
   "outputs": [],
   "source": [
    "# Specify quantization configuration\n",
    "net.qconfig = torch.ao.quantization.get_default_qconfig(\"onednn\")\n",
    "\n",
    "# Prepare the model for static quantization. This inserts observers in the model that will observe activation tensors during calibration.\n",
    "net_prepared = torch.quantization.prepare(net)\n",
    "\n",
    "# Now we convert the model to a quantized version.\n",
    "net_quantized = torch.quantization.convert(net_prepared)\n",
    "\n",
    "# Once the model is quantized, it can be used for inference in the same way as the unquantized model, but it will use less memory and potentially have faster inference times, at the cost of a possible decrease in accuracy."
   ]
  },
  {
   "cell_type": "code",
   "execution_count": null,
   "metadata": {},
   "outputs": [],
   "source": [
    "# Let's look at the sizes of these two models on disk and see how much we save by quantization\n",
    "buf = io.BytesIO()\n",
    "torch.save(net.state_dict(), buf)\n",
    "size_original = sys.getsizeof(buf.getvalue())\n",
    "\n",
    "buf = io.BytesIO()\n",
    "torch.save(net_quantized.state_dict(), buf)\n",
    "size_quantized = sys.getsizeof(buf.getvalue())\n",
    "\n",
    "print(\"Size of the original model: \", size_original)\n",
    "print(\"Size of the quantized model: \", size_quantized)\n",
    "print(f\"The quantized model is {np.round(100.*(size_quantized )/ size_original)}% the size of the original model\")"
   ]
  },
  {
   "cell_type": "code",
   "execution_count": null,
   "metadata": {},
   "outputs": [],
   "source": [
    "# Print out the weights of the original network\n",
    "for name, param in net.named_parameters():\n",
    "    print(\"Original Network Layer:\", name)\n",
    "    print(param.data)"
   ]
  },
  {
   "cell_type": "code",
   "execution_count": null,
   "metadata": {},
   "outputs": [],
   "source": [
    "# Print out the weights of the quantized network\n",
    "for name, module in net_quantized.named_modules():\n",
    "    if isinstance(module, nn.quantized.Linear):\n",
    "        print(\"Quantized Network Layer:\", name)\n",
    "        \n",
    "        print(\"Weight:\")\n",
    "        print(module.weight())\n",
    "        \n",
    "        print(\"Bias:\")\n",
    "        print(module.bias)\n"
   ]
  },
  {
   "cell_type": "markdown",
   "metadata": {},
   "source": [
    "#### Comparing a Quantized and Non-Quantized Model\n",
    "Here is a summary of the details and a comparison with the original model:\n",
    "\n",
    "- `Tensor Values`: In the quantized model, these are quantized values of the weights and biases, compared to the original model which stores these in floating point precision. These values are used in the computations performed by the layer, and they directly affect the layer's output.\n",
    "- `Size`: This is the shape of the weight or bias tensor and it should be the same in both the original and quantized model. In a fully-connected layer, this corresponds to the number of neurons in the current layer and the number of neurons in the previous layer.\n",
    "- `Dtype`: In the original model, the data type of the tensor values is usually torch.float32 (32-bit floating point), whereas in the quantized model it is a quantized data type like torch.qint8 (8-bit quantized integer). This reduces the memory usage and computational requirements of the model.\n",
    "- `Quantization_scheme`: This is specific to the quantized model. It is the type of quantization used, for example, torch.per_channel_affine means different channels (e.g., neurons in a layer) can have different scale and zero_point values.\n",
    "- `Scale & Zero Point`: These are parameters of the quantization process and are specific to the quantized model. They are used to convert between the quantized and dequantized forms of the tensor values.\n",
    "- `Axis`: This indicates the dimension along which the quantization parameters vary. This is also specific to the quantized model.\n",
    "- `Requires_grad`: This indicates whether the tensor is a model parameter that is updated during training. It should be the same in both the original and quantized models."
   ]
  },
  {
   "cell_type": "code",
   "execution_count": null,
   "metadata": {},
   "outputs": [],
   "source": [
    "# Suppose we have some input data\n",
    "input_data = torch.randn(1, 28 * 28)\n",
    "\n",
    "# We can pass this data through both the original and quantized models\n",
    "output_original = net(input_data)\n",
    "output_quantized = net_quantized(input_data)\n",
    "\n",
    "# The outputs should be similar, because the quantized model is a lower-precision\n",
    "# approximation of the original model. However, they won't be exactly the same\n",
    "# because of the quantization process.\n",
    "print(\"Output from original model:\", output_original.data)\n",
    "print(\"Output from quantized model:\", output_quantized.data)"
   ]
  },
  {
   "cell_type": "code",
   "execution_count": null,
   "metadata": {},
   "outputs": [],
   "source": [
    "# The difference between the outputs is an indication of the \"quantization error\",\n",
    "# which is the error introduced by the quantization process.\n",
    "quantization_error = (output_original - output_quantized).abs().mean()\n",
    "print(\"Quantization error:\", quantization_error)"
   ]
  },
  {
   "cell_type": "code",
   "execution_count": null,
   "metadata": {},
   "outputs": [],
   "source": [
    "# The weights of the original model are stored in floating point precision, so they\n",
    "# take up more memory than the quantized weights. We can check this using the\n",
    "# `element_size` method, which returns the size in bytes of one element of the tensor.\n",
    "print(f\"Size of one weight in original model: {net.fc1.weight.element_size()} bytes (32bit)\")\n",
    "print(f\"Size of one weight in quantized model: {net_quantized.fc1.weight().element_size()} byte (8bit)\")"
   ]
  },
  {
   "cell_type": "markdown",
   "metadata": {},
   "source": [
    "This example shows how the quantized model can be used in the same way as the original model. It also demonstrates the trade-off between precision and memory usage/computation speed that comes with quantization. The quantized model uses less memory and is faster to compute, but the outputs are not exactly the same as the original model due to the quantization error."
   ]
  },
  {
   "cell_type": "markdown",
   "metadata": {},
   "source": [
    "-sandbox\n",
    "&copy; 2023 Databricks, Inc. All rights reserved.<br/>\n",
    "Apache, Apache Spark, Spark and the Spark logo are trademarks of the <a href=\"https://www.apache.org/\">Apache Software Foundation</a>.<br/>\n",
    "<br/>\n",
    "<a href=\"https://databricks.com/privacy-policy\">Privacy Policy</a> | <a href=\"https://databricks.com/terms-of-use\">Terms of Use</a> | <a href=\"https://help.databricks.com/\">Support</a>"
   ]
  }
 ],
 "metadata": {
  "anaconda-cloud": {},
  "kernelspec": {
   "display_name": "Python 3",
   "language": "python",
   "name": "python3"
  },
  "language_info": {
   "codemirror_mode": {
    "name": "ipython",
    "version": 3
   },
   "file_extension": ".py",
   "mimetype": "text/x-python",
   "name": "python",
   "nbconvert_exporter": "python",
   "pygments_lexer": "ipython3",
   "version": "3.7.2"
  }
 },
 "nbformat": 4,
 "nbformat_minor": 1
}
